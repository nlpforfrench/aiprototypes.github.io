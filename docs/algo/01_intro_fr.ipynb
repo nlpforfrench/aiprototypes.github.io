{
 "cells": [
  {
   "cell_type": "markdown",
   "metadata": {
    "lang": "fr"
   },
   "source": [
    "# Algorithme ou plusieurs façons de résoudre un problème 🇫🇷\n",
    "\n",
    "[Xiaoou WANG](https://scholar.google.fr/citations?user=vKAMMpwAAAAJ&hl=en)\n",
    "\n",
    "Pour savoir pourquoi j'écris ces tutos, voir [ici](./index.md).\n",
    "\n",
    "Tout comme la série sur les mathématiques, cette série de tutoriels se veut une introduction aux algorithmes et aux structures de données. Elle vise les étudiants en sciences humaines et sociales mais pas seulement car je pense que l'apprentissage par les exemples peut être bénéfique à tous ceux qui aiment coder et une approche top-down.\n",
    "\n",
    "## Un exemple simpliste\n",
    "\n",
    "Considérons d'abord un exemple simple conçu à des fins d'illustration.\n",
    "\n",
    "Un jour, vous avez besoin d'une fonction filtrant tous les nombres pairs plus petits que $n$.\n",
    "\n",
    "Maintenant, quelqu'un vous propose deux options (algorithmes). Naturellement, chaque option (algorithme) comprend un ensemble d'étapes."
   ]
  },
  {
   "cell_type": "code",
   "execution_count": 51,
   "metadata": {
    "pycharm": {
     "name": "#%%\n"
    }
   },
   "outputs": [
    {
     "name": "stdout",
     "output_type": "stream",
     "text": [
      "CPU times: user 24 µs, sys: 0 ns, total: 24 µs\n",
      "Wall time: 27.9 µs\n"
     ]
    }
   ],
   "source": [
    "%%time\n",
    "temp_l = []\n",
    "def print_evens_fast(n):\n",
    "    i = 0\n",
    "    while i < n:\n",
    "        if i % 2 == 0:\n",
    "            temp_l.append(i)\n",
    "        i += 2\n",
    "print_evens_fast(50)"
   ]
  },
  {
   "cell_type": "code",
   "execution_count": 52,
   "metadata": {
    "pycharm": {
     "name": "#%%\n"
    }
   },
   "outputs": [
    {
     "name": "stdout",
     "output_type": "stream",
     "text": [
      "CPU times: user 27 µs, sys: 1 µs, total: 28 µs\n",
      "Wall time: 30 µs\n"
     ]
    }
   ],
   "source": [
    "%%time\n",
    "temp_l = []\n",
    "def print_evens_slow(n):\n",
    "    i = 0\n",
    "    while i < n:\n",
    "        if i % 2 == 0:\n",
    "            temp_l.append(i)\n",
    "        i += 1\n",
    "print_evens_slow(50)"
   ]
  },
  {
   "cell_type": "markdown",
   "metadata": {
    "lang": "en",
    "pycharm": {
     "name": "#%% md\n"
    }
   },
   "source": [
    "### Quel temps faut-il faire\n",
    "\n",
    "Dans la sortie ci-dessus, vous devriez surtout vous focaliser sur le `wall time`. En gros, `wall time`, aussi appelé `real`, représente le temps réel écoulé, alors que les valeurs `user` et `sys` représentent le temps d'exécution du CPU. Pour plus de détails cliquez [ici](https://stackoverflow.com/questions/3432085/how-to-understand-the-output-of-time-command).\n",
    "\n",
    "### Il ne suffit pas d'un loop\n",
    "\n",
    "Comme vous le voyez, l'exécution de `print_evens_fast` est légèrement plus rapide que la seconde. Cependant, la différence semble insignifiante. Si vous avez l'esprit critique, vous objecterez, à juste titre, qu'un seul essai est tout à fait sujet au hasard.\n",
    "\n",
    "Une astuce pratique serait d'utiliser la commande magique `timeit%%` dans Ipython. Dans ce cas, je vais utiliser `r1 n100`, ce qui signifie 1 essai de 100 boucles."
   ]
  },
  {
   "cell_type": "code",
   "execution_count": 54,
   "metadata": {
    "pycharm": {
     "name": "#%%\n"
    }
   },
   "outputs": [
    {
     "name": "stdout",
     "output_type": "stream",
     "text": [
      "4.07 µs ± 0 ns per loop (mean ± std. dev. of 1 run, 100 loops each)\n"
     ]
    }
   ],
   "source": [
    "%%timeit -r1 -n100\n",
    "temp_l = []\n",
    "def print_evens_fast(n):\n",
    "    i = 0\n",
    "    while i < n:\n",
    "        if i % 2 == 0:\n",
    "            temp_l.append(i)\n",
    "        i += 2\n",
    "print_evens_fast(50)"
   ]
  },
  {
   "cell_type": "code",
   "execution_count": 55,
   "metadata": {
    "pycharm": {
     "name": "#%%\n"
    }
   },
   "outputs": [
    {
     "name": "stdout",
     "output_type": "stream",
     "text": [
      "6.65 µs ± 0 ns per loop (mean ± std. dev. of 1 run, 100 loops each)\n"
     ]
    }
   ],
   "source": [
    "%%timeit -r1 -n100\n",
    "temp_l = []\n",
    "def print_evens_slow(n):\n",
    "    i = 0\n",
    "    while i < n:\n",
    "        if i % 2 == 0:\n",
    "            temp_l.append(i)\n",
    "        i += 1\n",
    "print_evens_slow(50)"
   ]
  },
  {
   "cell_type": "markdown",
   "metadata": {
    "pycharm": {
     "name": "#%% md\n"
    }
   },
   "source": [
    "La même conclusion s'impose.\n",
    "\n",
    "L'un des principaux inconvénients du présent exemple est son aspect artificiel et les avantages insignifiants du choix d'un algorithme légèrement plus rapide.\n",
    "\n",
    "Vous pourriez vous demander si de telles \"astuces\" sont vraiment utiles/nécessaires dans des scénarios de la vie réelle ?\n",
    "\n",
    "## Un exemple de la vie réelle\n",
    "\n",
    "Prenons un autre exemple, cette fois-ci beaucoup plus pratique.\n",
    "\n",
    "Les sites web utilisent souvent des ID pour gérer les clients. Chaque jour, certains ID sont utilisés et d'autres sont libérés. Lorsqu'un client tente d'acquérir un nouvel ID, nous voulons toujours lui attribuer le plus petit disponible.\n",
    "\n",
    "Alors comment trouver le plus petit ID libre, en l'occurrence 10, dans la liste suivante ?\n",
    "\n",
    "`[18, 4, 8, 9, 16, 1, 14, 7, 19, 3, 0, 5, 2, 11, 6]`\n",
    "\n",
    "L'approche la plus intuitive serait une recherche par force brute.\n",
    "\n",
    "Cependant, cet algorithme ne convient pas lorsque la base de données est grande. Par exemple, essayons une liste de 50000 ids.\n"
   ]
  },
  {
   "cell_type": "code",
   "execution_count": 80,
   "metadata": {
    "pycharm": {
     "name": "#%%\n"
    }
   },
   "outputs": [
    {
     "name": "stdout",
     "output_type": "stream",
     "text": [
      "the first 6 ids of the shuffled list is [25247, 49673, 27562, 2653, 16968, 33506]\n",
      "The user can use the free id 34838\n",
      "CPU times: user 9.42 s, sys: 10.2 ms, total: 9.43 s\n",
      "Wall time: 9.44 s\n"
     ]
    }
   ],
   "source": [
    "%%time\n",
    "def brute_force(lst):\n",
    "    i = 0\n",
    "    while True:\n",
    "        if i not in lst:\n",
    "            print(f\"The user can use the free id {i}\")\n",
    "            break\n",
    "        i = i + 1\n",
    "\n",
    "import random\n",
    "# reproductibility\n",
    "random.seed(0)\n",
    "\n",
    "nb_ids = 50000\n",
    "lst = list(range(nb_ids))\n",
    "lst_shuffled = random.sample(lst, len(lst))\n",
    "print(f\"the first 6 ids of the shuffled list is {lst_shuffled[:6]}\")\n",
    "nb_removed = random.randrange(nb_ids)\n",
    "lst_shuffled.pop(nb_removed)\n",
    "brute_force(lst_shuffled)"
   ]
  },
  {
   "cell_type": "markdown",
   "metadata": {
    "pycharm": {
     "name": "#%% md\n"
    }
   },
   "source": [
    "9,44 s, c'est beaucoup de temps. Si un utilisateur doit attendre 9,44 s avant de se voir attribuer un ID. Il y a de fortes chances pour qu'il soit parti depuis longtemps avant que le processus ne soit terminé.\n",
    "\n",
    "Maintenant si nous utilisons un autre algorithme basé sur le fait que :\n",
    "\n",
    "> Pour une série de n nombres $x_1, x_2, ..., x_n$, certains des $x_i$ doivent être en dehors de l'intervalle [0, n) s'il existe des nombres libres, sinon la liste est exactement une permutation de $0, 1, ..., n-1$ et $n$ doit être renvoyé comme le nombre libre minimum.\n",
    "\n",
    "Traduisons le théorème ci-dessus en python："
   ]
  },
  {
   "cell_type": "code",
   "execution_count": 87,
   "metadata": {
    "pycharm": {
     "name": "#%%\n"
    }
   },
   "outputs": [
    {
     "name": "stdout",
     "output_type": "stream",
     "text": [
      "The id 34838 can be used.\n",
      "CPU times: user 4.44 ms, sys: 203 µs, total: 4.64 ms\n",
      "Wall time: 4.51 ms\n"
     ]
    }
   ],
   "source": [
    "%%time\n",
    "def min_free(lst):\n",
    "    n = len(lst)\n",
    "    a = [0]*(n+1)\n",
    "    for x in lst:\n",
    "        if x < n:\n",
    "            a[x] = 1\n",
    "    print(f'The id {a.index(0)} can be used.')\n",
    "\n",
    "min_free(lst_shuffled)"
   ]
  },
  {
   "cell_type": "markdown",
   "metadata": {
    "pycharm": {
     "name": "#%% md\n"
    }
   },
   "source": [
    "Comme vous pouvez le constater, la version `min_free` renvoie le même identifiant, mais ne prend que 4,51 ms. Notez que, étant donné l'énorme écart, nous pouvons nous épargner l'exécution de plusieurs boucles.\n",
    "\n",
    "\n",
    "## Quantifier la vitesse et l'espace de mémoire (complexité en espace)\n",
    "\n",
    "Il reste un problème mineur. N'est-il pas fastidieux d'exécuter le programme à chaque fois ou même plusieurs fois pour avoir une idée de la vitesse ? En outre, les performances peuvent différer de manière assez significative en fonction de la configuration de l'ordinateur.\n",
    "\n",
    "Heureusement, On a trouvé une façon plus facile et plus objective de quantifier le temps, appelée notation Big O (en fait, elle quantifie la complexité en temps d'un algorithme).\n",
    "\n",
    "Pour ce cas particulier, la complexité en temps de l'algorithme de force brute est de $O(n^2)$ et celle de l'autre algorithme de $O(n)$.\n",
    "\n",
    "Cependant la plus rapide utilise plus de mémoire (considérez la liste `a` mise de côté pour enregistrer l'état des nombres), nous disons que la complexité en temps est $O(n)$."
   ]
  }
 ],
 "metadata": {
  "_draft": {
   "nbviewer_url": "https://gist.github.com/981ef732d4b3aa5337d367dfe68a1b10"
  },
  "gist": {
   "data": {
    "description": "1. Dive into algorithm, speed and space",
    "public": true
   },
   "id": "981ef732d4b3aa5337d367dfe68a1b10"
  },
  "kernelspec": {
   "display_name": "Python 3",
   "language": "python",
   "name": "python3"
  },
  "language_info": {
   "codemirror_mode": {
    "name": "ipython",
    "version": 3
   },
   "file_extension": ".py",
   "mimetype": "text/x-python",
   "name": "python",
   "nbconvert_exporter": "python",
   "pygments_lexer": "ipython3",
   "version": "3.7.6"
  },
  "nbTranslate": {
   "displayLangs": [
    "*"
   ],
   "hotkey": "alt-t",
   "langInMainMenu": true,
   "sourceLang": "en",
   "targetLang": "fr",
   "useGoogleTranslate": true
  },
  "toc": {
   "base_numbering": 1,
   "nav_menu": {},
   "number_sections": true,
   "sideBar": false,
   "skip_h1_title": true,
   "title_cell": "Table des matières",
   "title_sidebar": "Contents",
   "toc_cell": false,
   "toc_position": {},
   "toc_section_display": true,
   "toc_window_display": false
  },
  "varInspector": {
   "cols": {
    "lenName": 16,
    "lenType": 16,
    "lenVar": 40
   },
   "kernels_config": {
    "python": {
     "delete_cmd_postfix": "",
     "delete_cmd_prefix": "del ",
     "library": "var_list.py",
     "varRefreshCmd": "print(var_dic_list())"
    },
    "r": {
     "delete_cmd_postfix": ") ",
     "delete_cmd_prefix": "rm(",
     "library": "var_list.r",
     "varRefreshCmd": "cat(var_dic_list()) "
    }
   },
   "types_to_exclude": [
    "module",
    "function",
    "builtin_function_or_method",
    "instance",
    "_Feature"
   ],
   "window_display": false
  }
 },
 "nbformat": 4,
 "nbformat_minor": 1
}
