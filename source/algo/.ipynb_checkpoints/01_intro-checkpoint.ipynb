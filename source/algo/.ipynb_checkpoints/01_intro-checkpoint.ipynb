{
  "cells": [
    {
      "cell_type": "markdown",
      "metadata": {},
      "source": [
        "\n",
        "# 1. Dive into algorithm, speed and space\n",
        "\n",
        "By [Xiaoou WANG](https://scholar.google.fr/citations?user=vKAMMpwAAAAJ&hl=en)\n",
        "\n",
        "Just like the math series, this tutorial is an introduction to algorithms and data structures. It targets students in the humanities and social sciences but not only because I think that learning by examples can benefit all those who like coding and top-down learning.\n",
        "\n",
        "Let's first consider a simple example for illustrative purpose. Suppose you want to write a function filtering all the even numbers smaller than $n$ and you have to choose one from the following two options."
      ]
    },
    {
      "cell_type": "code",
      "execution_count": 51,
      "metadata": {
        "pycharm": {
          "name": "#%%\n"
        }
      },
      "outputs": [
        {
          "name": "stdout",
          "output_type": "stream",
          "text": [
            "CPU times: user 24 µs, sys: 0 ns, total: 24 µs\n",
            "Wall time: 27.9 µs\n"
          ]
        }
      ],
      "source": [
        "%%time\n",
        "temp_l = []\n",
        "def print_evens_fast(n):\n",
        "    i = 0\n",
        "    while i < n:\n",
        "        if i % 2 == 0:\n",
        "            temp_l.append(i)\n",
        "        i += 2\n",
        "print_evens_fast(50)"
      ]
    },
    {
      "cell_type": "code",
      "execution_count": 52,
      "metadata": {
        "pycharm": {
          "name": "#%%\n"
        }
      },
      "outputs": [
        {
          "name": "stdout",
          "output_type": "stream",
          "text": [
            "CPU times: user 27 µs, sys: 1 µs, total: 28 µs\n",
            "Wall time: 30 µs\n"
          ]
        }
      ],
      "source": [
        "%%time\n",
        "temp_l = []\n",
        "def print_evens_slow(n):\n",
        "    i = 0\n",
        "    while i < n:\n",
        "        if i % 2 == 0:\n",
        "            temp_l.append(i)\n",
        "        i += 1\n",
        "print_evens_slow(50)"
      ]
    },
    {
      "cell_type": "markdown",
      "metadata": {
        "pycharm": {
          "name": "#%% md\n"
        }
      },
      "source": [
        "In the output above, you should mainly focus on the wall time. Roughly speaking, `wall time`, also called `real`, represents actual elapsed time, while `user` and `sys` values represent CPU execution time.\n",
        "\n",
        "As you see the `print_evens_fast` is slightly fast than the second one. The difference, however, seems trivial. If you have a critical mind, you will object, rightly so, that a single trial is quite subject to randomness.\n",
        "\n",
        "A practical trick would be using the `timeit%%` magic command in Ipython. In this case I'll use `r1 n100` meaning 1 run of 100 loops."
      ]
    },
    {
      "cell_type": "code",
      "execution_count": 54,
      "metadata": {
        "pycharm": {
          "name": "#%%\n"
        }
      },
      "outputs": [
        {
          "name": "stdout",
          "output_type": "stream",
          "text": [
            "4.07 µs ± 0 ns per loop (mean ± std. dev. of 1 run, 100 loops each)\n"
          ]
        }
      ],
      "source": [
        "%%timeit -r1 -n100\n",
        "temp_l = []\n",
        "def print_evens_fast(n):\n",
        "    i = 0\n",
        "    while i < n:\n",
        "        if i % 2 == 0:\n",
        "            temp_l.append(i)\n",
        "        i += 2\n",
        "print_evens_fast(50)"
      ]
    },
    {
      "cell_type": "code",
      "execution_count": 55,
      "metadata": {
        "pycharm": {
          "name": "#%%\n"
        }
      },
      "outputs": [
        {
          "name": "stdout",
          "output_type": "stream",
          "text": [
            "6.65 µs ± 0 ns per loop (mean ± std. dev. of 1 run, 100 loops each)\n"
          ]
        }
      ],
      "source": [
        "%%timeit -r1 -n100\n",
        "temp_l = []\n",
        "def print_evens_slow(n):\n",
        "    i = 0\n",
        "    while i < n:\n",
        "        if i % 2 == 0:\n",
        "            temp_l.append(i)\n",
        "        i += 1\n",
        "print_evens_slow(50)"
      ]
    },
    {
      "cell_type": "markdown",
      "metadata": {
        "pycharm": {
          "name": "#%% md\n"
        }
      },
      "source": [
        "The same conclusion still stands.\n",
        "\n",
        "One major drawback of the present example is it's  artificial aspect and the trivial benefits of choosing a slightly faster algorithm.\n",
        "\n",
        "You might wonder: are such `tricks` really useful/necessary in real-life scenarios?\n",
        "\n",
        "Let's take a look at another example, this time much more practical.\n",
        "\n",
        "Websites often use ID to manage customs. Every day some IDs are used and some are freed. When some client tries to acquire a new ID, we want to always allocate it the smallest available one.\n",
        "\n",
        "So how can you find the smallest free ID, which is 10, from the following list?\n",
        "\n",
        "`[18, 4, 8, 9, 16, 1, 14, 7, 19, 3, 0, 5, 2, 11, 6]`\n",
        "\n",
        "The most intuitive approach would be a brute-force search. However, this algorithm doesn't scale well. For instance, let's try a list of 50000 ids."
      ]
    },
    {
      "cell_type": "code",
      "execution_count": 80,
      "metadata": {
        "pycharm": {
          "name": "#%%\n"
        }
      },
      "outputs": [
        {
          "name": "stdout",
          "output_type": "stream",
          "text": [
            "the first 6 ids of the shuffled list is [25247, 49673, 27562, 2653, 16968, 33506]\n",
            "The user can use the free id 34838\n",
            "CPU times: user 9.42 s, sys: 10.2 ms, total: 9.43 s\n",
            "Wall time: 9.44 s\n"
          ]
        }
      ],
      "source": [
        "%%time\n",
        "def brute_force(lst):\n",
        "    i = 0\n",
        "    while True:\n",
        "        if i not in lst:\n",
        "            print(f\"The user can use the free id {i}\")\n",
        "            break\n",
        "        i = i + 1\n",
        "\n",
        "import random\n",
        "# reproductibility\n",
        "random.seed(0)\n",
        "\n",
        "nb_ids = 50000\n",
        "lst = list(range(nb_ids))\n",
        "lst_shuffled = random.sample(lst, len(lst))\n",
        "print(f\"the first 6 ids of the shuffled list is {lst_shuffled[:6]}\")\n",
        "nb_removed = random.randrange(nb_ids)\n",
        "lst_shuffled.pop(nb_removed)\n",
        "brute_force(lst_shuffled)"
      ]
    },
    {
      "cell_type": "markdown",
      "metadata": {
        "pycharm": {
          "name": "#%% md\n"
        }
      },
      "source": [
        "9.44 s, that's a lot of time. If a user has to wait for 9.44 s before being attributed an ID. Chances are he will be long gone before the process is terminated.\n",
        "\n",
        "Now if we use another algorithm based on the fact that:\n",
        "\n",
        "> for a series of n numbers $x_1, x_2, ..., x_n$, some of the $x_i$ must be outside the range [0, n) if there are free numbers, otherwise the list is exactly a permutation of $0, 1, ..., n-1$ and n should be returned as the minimum free number.\n",
        "\n",
        "Let's translate the above theorem into python："
      ]
    },
    {
      "cell_type": "code",
      "execution_count": 87,
      "metadata": {
        "pycharm": {
          "name": "#%%\n"
        }
      },
      "outputs": [
        {
          "name": "stdout",
          "output_type": "stream",
          "text": [
            "The id 34838 can be used.\n",
            "CPU times: user 4.44 ms, sys: 203 µs, total: 4.64 ms\n",
            "Wall time: 4.51 ms\n"
          ]
        }
      ],
      "source": [
        "%%time\n",
        "def min_free(lst):\n",
        "    n = len(lst)\n",
        "    a = [0]*(n+1)\n",
        "    for x in lst:\n",
        "        if x < n:\n",
        "            a[x] = 1\n",
        "    print(f'The id {a.index(0)} can be used.')\n",
        "\n",
        "min_free(lst_shuffled)"
      ]
    },
    {
      "cell_type": "markdown",
      "metadata": {
        "pycharm": {
          "name": "#%% md\n"
        }
      },
      "source": [
        "As you can see the min_free version spits the same ID, however it takes only 4.51 ms. Note that, given the huge gap, we can save ourselves from running multiple loops.\n",
        "\n",
        "There remains a minor issue. Isn't it tedious to run the program each time or even multiple times to have an idea of the speed ? Besides, the performance can differ quite significantly according to one's computer configuration.\n",
        "\n",
        "Luckily people figured out a easier and more objective way of measuring time called Big O notation (actually it measures the time complexity of an algorithm). For this particular case the time complexity of the brute force one is $O(n^2)$ and the other one $O(n)$. However the faster uses more memory (consider the list `a` set aside as a bookkeeper), we say that the space complexity is $O(n)$."
      ]
    }
  ],
  "metadata": {
    "_draft": {
      "nbviewer_url": "https://gist.github.com/981ef732d4b3aa5337d367dfe68a1b10"
    },
    "gist": {
      "data": {
        "description": "1. Dive into algorithm, speed and space",
        "public": true
      },
      "id": "981ef732d4b3aa5337d367dfe68a1b10"
    },
    "kernelspec": {
      "display_name": "Python 3",
      "language": "python",
      "name": "python3"
    },
    "language_info": {
      "codemirror_mode": {
        "name": "ipython",
        "version": 3
      },
      "file_extension": ".py",
      "mimetype": "text/x-python",
      "name": "python",
      "nbconvert_exporter": "python",
      "pygments_lexer": "ipython3",
      "version": "3.7.6"
    },
    "nbTranslate": {
      "displayLangs": [
        "*"
      ],
      "hotkey": "alt-t",
      "langInMainMenu": true,
      "sourceLang": "en",
      "targetLang": "fr",
      "useGoogleTranslate": true
    },
    "toc": {
      "base_numbering": 1,
      "nav_menu": {},
      "number_sections": true,
      "sideBar": false,
      "skip_h1_title": true,
      "title_cell": "Table des matières",
      "title_sidebar": "Contents",
      "toc_cell": false,
      "toc_position": {},
      "toc_section_display": true,
      "toc_window_display": false
    },
    "varInspector": {
      "cols": {
        "lenName": 16,
        "lenType": 16,
        "lenVar": 40
      },
      "kernels_config": {
        "python": {
          "delete_cmd_postfix": "",
          "delete_cmd_prefix": "del ",
          "library": "var_list.py",
          "varRefreshCmd": "print(var_dic_list())"
        },
        "r": {
          "delete_cmd_postfix": ") ",
          "delete_cmd_prefix": "rm(",
          "library": "var_list.r",
          "varRefreshCmd": "cat(var_dic_list()) "
        }
      },
      "types_to_exclude": [
        "module",
        "function",
        "builtin_function_or_method",
        "instance",
        "_Feature"
      ],
      "window_display": false
    }
  },
  "nbformat": 4,
  "nbformat_minor": 1
}